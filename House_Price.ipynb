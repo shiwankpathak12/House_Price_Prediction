{
  "nbformat": 4,
  "nbformat_minor": 0,
  "metadata": {
    "colab": {
      "name": "House_Price.ipynb",
      "provenance": [],
      "collapsed_sections": []
    },
    "kernelspec": {
      "name": "python3",
      "display_name": "Python 3"
    }
  },
  "cells": [
    {
      "cell_type": "code",
      "metadata": {
        "id": "X2jU4lc6JoIj",
        "colab": {
          "resources": {
            "http://localhost:8080/nbextensions/google.colab/files.js": {
              "data": "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",
              "ok": true,
              "headers": [
                [
                  "content-type",
                  "application/javascript"
                ]
              ],
              "status": 200,
              "status_text": ""
            }
          },
          "base_uri": "https://localhost:8080/",
          "height": 197
        },
        "outputId": "3aaac6a7-0f6e-4d70-b94d-22c0150dedb9"
      },
      "source": [
        "# Load Our Dataset\n",
        "import pandas as pd\n",
        "from google.colab import files\n",
        "uploaded=files.upload()\n",
        "df = pd.read_csv(\"Housing_Modified.csv\")\n",
        "df.head(3)"
      ],
      "execution_count": 2,
      "outputs": [
        {
          "output_type": "display_data",
          "data": {
            "text/html": [
              "\n",
              "     <input type=\"file\" id=\"files-ea98769a-3619-4d98-a7d5-ec73ae05a89c\" name=\"files[]\" multiple disabled\n",
              "        style=\"border:none\" />\n",
              "     <output id=\"result-ea98769a-3619-4d98-a7d5-ec73ae05a89c\">\n",
              "      Upload widget is only available when the cell has been executed in the\n",
              "      current browser session. Please rerun this cell to enable.\n",
              "      </output>\n",
              "      <script src=\"/nbextensions/google.colab/files.js\"></script> "
            ],
            "text/plain": [
              "<IPython.core.display.HTML object>"
            ]
          },
          "metadata": {
            "tags": []
          }
        },
        {
          "output_type": "stream",
          "text": [
            "Saving Housing_Modified.csv to Housing_Modified (1).csv\n"
          ],
          "name": "stdout"
        },
        {
          "output_type": "execute_result",
          "data": {
            "text/html": [
              "<div>\n",
              "<style scoped>\n",
              "    .dataframe tbody tr th:only-of-type {\n",
              "        vertical-align: middle;\n",
              "    }\n",
              "\n",
              "    .dataframe tbody tr th {\n",
              "        vertical-align: top;\n",
              "    }\n",
              "\n",
              "    .dataframe thead th {\n",
              "        text-align: right;\n",
              "    }\n",
              "</style>\n",
              "<table border=\"1\" class=\"dataframe\">\n",
              "  <thead>\n",
              "    <tr style=\"text-align: right;\">\n",
              "      <th></th>\n",
              "      <th>price</th>\n",
              "      <th>lotsize</th>\n",
              "      <th>bedrooms</th>\n",
              "      <th>bathrms</th>\n",
              "      <th>stories</th>\n",
              "      <th>driveway</th>\n",
              "      <th>recroom</th>\n",
              "      <th>fullbase</th>\n",
              "      <th>gashw</th>\n",
              "      <th>airco</th>\n",
              "      <th>garagepl</th>\n",
              "      <th>prefarea</th>\n",
              "    </tr>\n",
              "  </thead>\n",
              "  <tbody>\n",
              "    <tr>\n",
              "      <th>0</th>\n",
              "      <td>42000.0</td>\n",
              "      <td>5850</td>\n",
              "      <td>3</td>\n",
              "      <td>1</td>\n",
              "      <td>two</td>\n",
              "      <td>yes</td>\n",
              "      <td>no</td>\n",
              "      <td>yes</td>\n",
              "      <td>no</td>\n",
              "      <td>no</td>\n",
              "      <td>1</td>\n",
              "      <td>no</td>\n",
              "    </tr>\n",
              "    <tr>\n",
              "      <th>1</th>\n",
              "      <td>38500.0</td>\n",
              "      <td>4000</td>\n",
              "      <td>2</td>\n",
              "      <td>1</td>\n",
              "      <td>one</td>\n",
              "      <td>yes</td>\n",
              "      <td>no</td>\n",
              "      <td>no</td>\n",
              "      <td>no</td>\n",
              "      <td>no</td>\n",
              "      <td>0</td>\n",
              "      <td>no</td>\n",
              "    </tr>\n",
              "    <tr>\n",
              "      <th>2</th>\n",
              "      <td>49500.0</td>\n",
              "      <td>3060</td>\n",
              "      <td>3</td>\n",
              "      <td>1</td>\n",
              "      <td>one</td>\n",
              "      <td>yes</td>\n",
              "      <td>no</td>\n",
              "      <td>no</td>\n",
              "      <td>no</td>\n",
              "      <td>no</td>\n",
              "      <td>0</td>\n",
              "      <td>no</td>\n",
              "    </tr>\n",
              "  </tbody>\n",
              "</table>\n",
              "</div>"
            ],
            "text/plain": [
              "     price  lotsize  bedrooms  bathrms  ... gashw airco garagepl prefarea\n",
              "0  42000.0     5850         3        1  ...    no    no        1       no\n",
              "1  38500.0     4000         2        1  ...    no    no        0       no\n",
              "2  49500.0     3060         3        1  ...    no    no        0       no\n",
              "\n",
              "[3 rows x 12 columns]"
            ]
          },
          "metadata": {
            "tags": []
          },
          "execution_count": 2
        }
      ]
    },
    {
      "cell_type": "code",
      "metadata": {
        "id": "lobVOApdKH0W"
      },
      "source": [
        "# Cleaning , Standardization , Normalization\n",
        "from sklearn import preprocessing\n",
        "lb = preprocessing.LabelBinarizer()\n",
        "\n",
        "df.driveway = lb.fit_transform(df.driveway)\n",
        "df.recroom = lb.fit_transform(df.recroom)\n",
        "df.fullbase = lb.fit_transform(df.fullbase)\n",
        "df.gashw = lb.fit_transform(df.gashw)\n",
        "df.airco = lb.fit_transform(df.airco)\n",
        "df.prefarea = lb.fit_transform(df.prefarea)\n"
      ],
      "execution_count": 3,
      "outputs": []
    },
    {
      "cell_type": "code",
      "metadata": {
        "id": "_1nqPCSfKKWt",
        "colab": {
          "base_uri": "https://localhost:8080/",
          "height": 161
        },
        "outputId": "a6eaf587-3382-4e83-88a8-cc2c0bac5a75"
      },
      "source": [
        "# One Hot Encoding\n",
        "\n",
        "df_stories = pd.get_dummies(df['stories'],prefix='stories')\n",
        "df = pd.concat([df,df_stories],axis=1) # axis = 1 --> columnWise\n",
        "\n",
        "del df['stories']\n",
        "\n",
        "df.head(3)"
      ],
      "execution_count": 4,
      "outputs": [
        {
          "output_type": "execute_result",
          "data": {
            "text/html": [
              "<div>\n",
              "<style scoped>\n",
              "    .dataframe tbody tr th:only-of-type {\n",
              "        vertical-align: middle;\n",
              "    }\n",
              "\n",
              "    .dataframe tbody tr th {\n",
              "        vertical-align: top;\n",
              "    }\n",
              "\n",
              "    .dataframe thead th {\n",
              "        text-align: right;\n",
              "    }\n",
              "</style>\n",
              "<table border=\"1\" class=\"dataframe\">\n",
              "  <thead>\n",
              "    <tr style=\"text-align: right;\">\n",
              "      <th></th>\n",
              "      <th>price</th>\n",
              "      <th>lotsize</th>\n",
              "      <th>bedrooms</th>\n",
              "      <th>bathrms</th>\n",
              "      <th>driveway</th>\n",
              "      <th>recroom</th>\n",
              "      <th>fullbase</th>\n",
              "      <th>gashw</th>\n",
              "      <th>airco</th>\n",
              "      <th>garagepl</th>\n",
              "      <th>prefarea</th>\n",
              "      <th>stories_four</th>\n",
              "      <th>stories_one</th>\n",
              "      <th>stories_three</th>\n",
              "      <th>stories_two</th>\n",
              "    </tr>\n",
              "  </thead>\n",
              "  <tbody>\n",
              "    <tr>\n",
              "      <th>0</th>\n",
              "      <td>42000.0</td>\n",
              "      <td>5850</td>\n",
              "      <td>3</td>\n",
              "      <td>1</td>\n",
              "      <td>1</td>\n",
              "      <td>0</td>\n",
              "      <td>1</td>\n",
              "      <td>0</td>\n",
              "      <td>0</td>\n",
              "      <td>1</td>\n",
              "      <td>0</td>\n",
              "      <td>0</td>\n",
              "      <td>0</td>\n",
              "      <td>0</td>\n",
              "      <td>1</td>\n",
              "    </tr>\n",
              "    <tr>\n",
              "      <th>1</th>\n",
              "      <td>38500.0</td>\n",
              "      <td>4000</td>\n",
              "      <td>2</td>\n",
              "      <td>1</td>\n",
              "      <td>1</td>\n",
              "      <td>0</td>\n",
              "      <td>0</td>\n",
              "      <td>0</td>\n",
              "      <td>0</td>\n",
              "      <td>0</td>\n",
              "      <td>0</td>\n",
              "      <td>0</td>\n",
              "      <td>1</td>\n",
              "      <td>0</td>\n",
              "      <td>0</td>\n",
              "    </tr>\n",
              "    <tr>\n",
              "      <th>2</th>\n",
              "      <td>49500.0</td>\n",
              "      <td>3060</td>\n",
              "      <td>3</td>\n",
              "      <td>1</td>\n",
              "      <td>1</td>\n",
              "      <td>0</td>\n",
              "      <td>0</td>\n",
              "      <td>0</td>\n",
              "      <td>0</td>\n",
              "      <td>0</td>\n",
              "      <td>0</td>\n",
              "      <td>0</td>\n",
              "      <td>1</td>\n",
              "      <td>0</td>\n",
              "      <td>0</td>\n",
              "    </tr>\n",
              "  </tbody>\n",
              "</table>\n",
              "</div>"
            ],
            "text/plain": [
              "     price  lotsize  bedrooms  ...  stories_one  stories_three  stories_two\n",
              "0  42000.0     5850         3  ...            0              0            1\n",
              "1  38500.0     4000         2  ...            1              0            0\n",
              "2  49500.0     3060         3  ...            1              0            0\n",
              "\n",
              "[3 rows x 15 columns]"
            ]
          },
          "metadata": {
            "tags": []
          },
          "execution_count": 4
        }
      ]
    },
    {
      "cell_type": "code",
      "metadata": {
        "id": "isTfkY20Xm1o"
      },
      "source": [
        ""
      ],
      "execution_count": 4,
      "outputs": []
    },
    {
      "cell_type": "code",
      "metadata": {
        "id": "9EPmrSlbU6Tz",
        "colab": {
          "base_uri": "https://localhost:8080/"
        },
        "outputId": "1ef0b71e-e6aa-4ace-b5f6-9c60adb648ae"
      },
      "source": [
        "df.info()"
      ],
      "execution_count": 5,
      "outputs": [
        {
          "output_type": "stream",
          "text": [
            "<class 'pandas.core.frame.DataFrame'>\n",
            "RangeIndex: 546 entries, 0 to 545\n",
            "Data columns (total 15 columns):\n",
            " #   Column         Non-Null Count  Dtype  \n",
            "---  ------         --------------  -----  \n",
            " 0   price          546 non-null    float64\n",
            " 1   lotsize        546 non-null    int64  \n",
            " 2   bedrooms       546 non-null    int64  \n",
            " 3   bathrms        546 non-null    int64  \n",
            " 4   driveway       546 non-null    int64  \n",
            " 5   recroom        546 non-null    int64  \n",
            " 6   fullbase       546 non-null    int64  \n",
            " 7   gashw          546 non-null    int64  \n",
            " 8   airco          546 non-null    int64  \n",
            " 9   garagepl       546 non-null    int64  \n",
            " 10  prefarea       546 non-null    int64  \n",
            " 11  stories_four   546 non-null    uint8  \n",
            " 12  stories_one    546 non-null    uint8  \n",
            " 13  stories_three  546 non-null    uint8  \n",
            " 14  stories_two    546 non-null    uint8  \n",
            "dtypes: float64(1), int64(10), uint8(4)\n",
            "memory usage: 49.2 KB\n"
          ],
          "name": "stdout"
        }
      ]
    },
    {
      "cell_type": "code",
      "metadata": {
        "id": "GIdyxob8WGFg",
        "colab": {
          "base_uri": "https://localhost:8080/",
          "height": 529
        },
        "outputId": "9fb735e9-8a2d-4e78-9177-7df8a756b1ae"
      },
      "source": [
        "df.corr()"
      ],
      "execution_count": 6,
      "outputs": [
        {
          "output_type": "execute_result",
          "data": {
            "text/html": [
              "<div>\n",
              "<style scoped>\n",
              "    .dataframe tbody tr th:only-of-type {\n",
              "        vertical-align: middle;\n",
              "    }\n",
              "\n",
              "    .dataframe tbody tr th {\n",
              "        vertical-align: top;\n",
              "    }\n",
              "\n",
              "    .dataframe thead th {\n",
              "        text-align: right;\n",
              "    }\n",
              "</style>\n",
              "<table border=\"1\" class=\"dataframe\">\n",
              "  <thead>\n",
              "    <tr style=\"text-align: right;\">\n",
              "      <th></th>\n",
              "      <th>price</th>\n",
              "      <th>lotsize</th>\n",
              "      <th>bedrooms</th>\n",
              "      <th>bathrms</th>\n",
              "      <th>driveway</th>\n",
              "      <th>recroom</th>\n",
              "      <th>fullbase</th>\n",
              "      <th>gashw</th>\n",
              "      <th>airco</th>\n",
              "      <th>garagepl</th>\n",
              "      <th>prefarea</th>\n",
              "      <th>stories_four</th>\n",
              "      <th>stories_one</th>\n",
              "      <th>stories_three</th>\n",
              "      <th>stories_two</th>\n",
              "    </tr>\n",
              "  </thead>\n",
              "  <tbody>\n",
              "    <tr>\n",
              "      <th>price</th>\n",
              "      <td>1.000000</td>\n",
              "      <td>0.535796</td>\n",
              "      <td>0.366447</td>\n",
              "      <td>0.516719</td>\n",
              "      <td>0.297167</td>\n",
              "      <td>0.254960</td>\n",
              "      <td>0.186218</td>\n",
              "      <td>0.092837</td>\n",
              "      <td>0.453347</td>\n",
              "      <td>0.383302</td>\n",
              "      <td>0.329074</td>\n",
              "      <td>0.372281</td>\n",
              "      <td>-0.270058</td>\n",
              "      <td>0.138254</td>\n",
              "      <td>-0.002089</td>\n",
              "    </tr>\n",
              "    <tr>\n",
              "      <th>lotsize</th>\n",
              "      <td>0.535796</td>\n",
              "      <td>1.000000</td>\n",
              "      <td>0.151851</td>\n",
              "      <td>0.193833</td>\n",
              "      <td>0.288778</td>\n",
              "      <td>0.140327</td>\n",
              "      <td>0.047487</td>\n",
              "      <td>-0.009201</td>\n",
              "      <td>0.221765</td>\n",
              "      <td>0.352872</td>\n",
              "      <td>0.234782</td>\n",
              "      <td>0.178354</td>\n",
              "      <td>0.054348</td>\n",
              "      <td>0.020567</td>\n",
              "      <td>-0.159612</td>\n",
              "    </tr>\n",
              "    <tr>\n",
              "      <th>bedrooms</th>\n",
              "      <td>0.366447</td>\n",
              "      <td>0.151851</td>\n",
              "      <td>1.000000</td>\n",
              "      <td>0.373769</td>\n",
              "      <td>-0.011996</td>\n",
              "      <td>0.080492</td>\n",
              "      <td>0.097201</td>\n",
              "      <td>0.046028</td>\n",
              "      <td>0.160412</td>\n",
              "      <td>0.139117</td>\n",
              "      <td>0.078953</td>\n",
              "      <td>0.145525</td>\n",
              "      <td>-0.509974</td>\n",
              "      <td>0.099150</td>\n",
              "      <td>0.377424</td>\n",
              "    </tr>\n",
              "    <tr>\n",
              "      <th>bathrms</th>\n",
              "      <td>0.516719</td>\n",
              "      <td>0.193833</td>\n",
              "      <td>0.373769</td>\n",
              "      <td>1.000000</td>\n",
              "      <td>0.041955</td>\n",
              "      <td>0.126892</td>\n",
              "      <td>0.102791</td>\n",
              "      <td>0.067365</td>\n",
              "      <td>0.184955</td>\n",
              "      <td>0.178178</td>\n",
              "      <td>0.064013</td>\n",
              "      <td>0.281003</td>\n",
              "      <td>-0.250784</td>\n",
              "      <td>0.036027</td>\n",
              "      <td>0.080982</td>\n",
              "    </tr>\n",
              "    <tr>\n",
              "      <th>driveway</th>\n",
              "      <td>0.297167</td>\n",
              "      <td>0.288778</td>\n",
              "      <td>-0.011996</td>\n",
              "      <td>0.041955</td>\n",
              "      <td>1.000000</td>\n",
              "      <td>0.091959</td>\n",
              "      <td>0.043428</td>\n",
              "      <td>-0.011942</td>\n",
              "      <td>0.106290</td>\n",
              "      <td>0.203682</td>\n",
              "      <td>0.199378</td>\n",
              "      <td>0.115453</td>\n",
              "      <td>-0.053249</td>\n",
              "      <td>0.073533</td>\n",
              "      <td>-0.047074</td>\n",
              "    </tr>\n",
              "    <tr>\n",
              "      <th>recroom</th>\n",
              "      <td>0.254960</td>\n",
              "      <td>0.140327</td>\n",
              "      <td>0.080492</td>\n",
              "      <td>0.126892</td>\n",
              "      <td>0.091959</td>\n",
              "      <td>1.000000</td>\n",
              "      <td>0.372434</td>\n",
              "      <td>-0.010119</td>\n",
              "      <td>0.136626</td>\n",
              "      <td>0.038122</td>\n",
              "      <td>0.161292</td>\n",
              "      <td>0.067567</td>\n",
              "      <td>-0.022632</td>\n",
              "      <td>-0.038733</td>\n",
              "      <td>0.006938</td>\n",
              "    </tr>\n",
              "    <tr>\n",
              "      <th>fullbase</th>\n",
              "      <td>0.186218</td>\n",
              "      <td>0.047487</td>\n",
              "      <td>0.097201</td>\n",
              "      <td>0.102791</td>\n",
              "      <td>0.043428</td>\n",
              "      <td>0.372434</td>\n",
              "      <td>1.000000</td>\n",
              "      <td>0.004677</td>\n",
              "      <td>0.045248</td>\n",
              "      <td>0.052524</td>\n",
              "      <td>0.228651</td>\n",
              "      <td>-0.165285</td>\n",
              "      <td>0.059154</td>\n",
              "      <td>-0.132540</td>\n",
              "      <td>0.098694</td>\n",
              "    </tr>\n",
              "    <tr>\n",
              "      <th>gashw</th>\n",
              "      <td>0.092837</td>\n",
              "      <td>-0.009201</td>\n",
              "      <td>0.046028</td>\n",
              "      <td>0.067365</td>\n",
              "      <td>-0.011942</td>\n",
              "      <td>-0.010119</td>\n",
              "      <td>0.004677</td>\n",
              "      <td>1.000000</td>\n",
              "      <td>-0.130350</td>\n",
              "      <td>0.068144</td>\n",
              "      <td>-0.059170</td>\n",
              "      <td>-0.062416</td>\n",
              "      <td>-0.060336</td>\n",
              "      <td>0.072922</td>\n",
              "      <td>0.054823</td>\n",
              "    </tr>\n",
              "    <tr>\n",
              "      <th>airco</th>\n",
              "      <td>0.453347</td>\n",
              "      <td>0.221765</td>\n",
              "      <td>0.160412</td>\n",
              "      <td>0.184955</td>\n",
              "      <td>0.106290</td>\n",
              "      <td>0.136626</td>\n",
              "      <td>0.045248</td>\n",
              "      <td>-0.130350</td>\n",
              "      <td>1.000000</td>\n",
              "      <td>0.156596</td>\n",
              "      <td>0.115626</td>\n",
              "      <td>0.298887</td>\n",
              "      <td>-0.143174</td>\n",
              "      <td>0.110682</td>\n",
              "      <td>-0.074706</td>\n",
              "    </tr>\n",
              "    <tr>\n",
              "      <th>garagepl</th>\n",
              "      <td>0.383302</td>\n",
              "      <td>0.352872</td>\n",
              "      <td>0.139117</td>\n",
              "      <td>0.178178</td>\n",
              "      <td>0.203682</td>\n",
              "      <td>0.038122</td>\n",
              "      <td>0.052524</td>\n",
              "      <td>0.068144</td>\n",
              "      <td>0.156596</td>\n",
              "      <td>1.000000</td>\n",
              "      <td>0.092364</td>\n",
              "      <td>0.126112</td>\n",
              "      <td>0.016610</td>\n",
              "      <td>-0.079170</td>\n",
              "      <td>-0.041931</td>\n",
              "    </tr>\n",
              "    <tr>\n",
              "      <th>prefarea</th>\n",
              "      <td>0.329074</td>\n",
              "      <td>0.234782</td>\n",
              "      <td>0.078953</td>\n",
              "      <td>0.064013</td>\n",
              "      <td>0.199378</td>\n",
              "      <td>0.161292</td>\n",
              "      <td>0.228651</td>\n",
              "      <td>-0.059170</td>\n",
              "      <td>0.115626</td>\n",
              "      <td>0.092364</td>\n",
              "      <td>1.000000</td>\n",
              "      <td>-0.010035</td>\n",
              "      <td>-0.010668</td>\n",
              "      <td>0.143067</td>\n",
              "      <td>-0.059240</td>\n",
              "    </tr>\n",
              "    <tr>\n",
              "      <th>stories_four</th>\n",
              "      <td>0.372281</td>\n",
              "      <td>0.178354</td>\n",
              "      <td>0.145525</td>\n",
              "      <td>0.281003</td>\n",
              "      <td>0.115453</td>\n",
              "      <td>0.067567</td>\n",
              "      <td>-0.165285</td>\n",
              "      <td>-0.062416</td>\n",
              "      <td>0.298887</td>\n",
              "      <td>0.126112</td>\n",
              "      <td>-0.010035</td>\n",
              "      <td>1.000000</td>\n",
              "      <td>-0.240361</td>\n",
              "      <td>-0.080113</td>\n",
              "      <td>-0.250472</td>\n",
              "    </tr>\n",
              "    <tr>\n",
              "      <th>stories_one</th>\n",
              "      <td>-0.270058</td>\n",
              "      <td>0.054348</td>\n",
              "      <td>-0.509974</td>\n",
              "      <td>-0.250784</td>\n",
              "      <td>-0.053249</td>\n",
              "      <td>-0.022632</td>\n",
              "      <td>0.059154</td>\n",
              "      <td>-0.060336</td>\n",
              "      <td>-0.143174</td>\n",
              "      <td>0.016610</td>\n",
              "      <td>-0.010668</td>\n",
              "      <td>-0.240361</td>\n",
              "      <td>1.000000</td>\n",
              "      <td>-0.237177</td>\n",
              "      <td>-0.741533</td>\n",
              "    </tr>\n",
              "    <tr>\n",
              "      <th>stories_three</th>\n",
              "      <td>0.138254</td>\n",
              "      <td>0.020567</td>\n",
              "      <td>0.099150</td>\n",
              "      <td>0.036027</td>\n",
              "      <td>0.073533</td>\n",
              "      <td>-0.038733</td>\n",
              "      <td>-0.132540</td>\n",
              "      <td>0.072922</td>\n",
              "      <td>0.110682</td>\n",
              "      <td>-0.079170</td>\n",
              "      <td>0.143067</td>\n",
              "      <td>-0.080113</td>\n",
              "      <td>-0.237177</td>\n",
              "      <td>1.000000</td>\n",
              "      <td>-0.247154</td>\n",
              "    </tr>\n",
              "    <tr>\n",
              "      <th>stories_two</th>\n",
              "      <td>-0.002089</td>\n",
              "      <td>-0.159612</td>\n",
              "      <td>0.377424</td>\n",
              "      <td>0.080982</td>\n",
              "      <td>-0.047074</td>\n",
              "      <td>0.006938</td>\n",
              "      <td>0.098694</td>\n",
              "      <td>0.054823</td>\n",
              "      <td>-0.074706</td>\n",
              "      <td>-0.041931</td>\n",
              "      <td>-0.059240</td>\n",
              "      <td>-0.250472</td>\n",
              "      <td>-0.741533</td>\n",
              "      <td>-0.247154</td>\n",
              "      <td>1.000000</td>\n",
              "    </tr>\n",
              "  </tbody>\n",
              "</table>\n",
              "</div>"
            ],
            "text/plain": [
              "                  price   lotsize  ...  stories_three  stories_two\n",
              "price          1.000000  0.535796  ...       0.138254    -0.002089\n",
              "lotsize        0.535796  1.000000  ...       0.020567    -0.159612\n",
              "bedrooms       0.366447  0.151851  ...       0.099150     0.377424\n",
              "bathrms        0.516719  0.193833  ...       0.036027     0.080982\n",
              "driveway       0.297167  0.288778  ...       0.073533    -0.047074\n",
              "recroom        0.254960  0.140327  ...      -0.038733     0.006938\n",
              "fullbase       0.186218  0.047487  ...      -0.132540     0.098694\n",
              "gashw          0.092837 -0.009201  ...       0.072922     0.054823\n",
              "airco          0.453347  0.221765  ...       0.110682    -0.074706\n",
              "garagepl       0.383302  0.352872  ...      -0.079170    -0.041931\n",
              "prefarea       0.329074  0.234782  ...       0.143067    -0.059240\n",
              "stories_four   0.372281  0.178354  ...      -0.080113    -0.250472\n",
              "stories_one   -0.270058  0.054348  ...      -0.237177    -0.741533\n",
              "stories_three  0.138254  0.020567  ...       1.000000    -0.247154\n",
              "stories_two   -0.002089 -0.159612  ...      -0.247154     1.000000\n",
              "\n",
              "[15 rows x 15 columns]"
            ]
          },
          "metadata": {
            "tags": []
          },
          "execution_count": 6
        }
      ]
    },
    {
      "cell_type": "code",
      "metadata": {
        "id": "TF23_EKxYWkw",
        "colab": {
          "base_uri": "https://localhost:8080/",
          "height": 341
        },
        "outputId": "1a2def5d-8dc6-45e0-ca3f-b8b7af34c6a6"
      },
      "source": [
        "import matplotlib.pyplot as plt\n",
        "import seaborn as sns \n",
        "%matplotlib inline\n",
        "\n",
        "sns.heatmap(df.corr(),square=True,annot=True,fmt='.1f')"
      ],
      "execution_count": 7,
      "outputs": [
        {
          "output_type": "execute_result",
          "data": {
            "text/plain": [
              "<matplotlib.axes._subplots.AxesSubplot at 0x7f4a4930d2e8>"
            ]
          },
          "metadata": {
            "tags": []
          },
          "execution_count": 7
        },
        {
          "output_type": "display_data",
          "data": {
            "image/png": "[encoded data removed]",
            "text/plain": [
              "<Figure size 432x288 with 2 Axes>"
            ]
          },
          "metadata": {
            "tags": [],
            "needs_background": "light"
          }
        }
      ]
    },
    {
      "cell_type": "code",
      "metadata": {
        "id": "G8SHBmXpePhu",
        "colab": {
          "base_uri": "https://localhost:8080/"
        },
        "outputId": "3f3c81ff-ac8c-453d-ff1e-ae08e172719d"
      },
      "source": [
        "# VIF \n",
        "df.columns"
      ],
      "execution_count": 8,
      "outputs": [
        {
          "output_type": "execute_result",
          "data": {
            "text/plain": [
              "Index(['price', 'lotsize', 'bedrooms', 'bathrms', 'driveway', 'recroom',\n",
              "       'fullbase', 'gashw', 'airco', 'garagepl', 'prefarea', 'stories_four',\n",
              "       'stories_one', 'stories_three', 'stories_two'],\n",
              "      dtype='object')"
            ]
          },
          "metadata": {
            "tags": []
          },
          "execution_count": 8
        }
      ]
    },
    {
      "cell_type": "code",
      "metadata": {
        "id": "0k5uRAcceaSe",
        "colab": {
          "base_uri": "https://localhost:8080/"
        },
        "outputId": "1e06612d-e78e-4e6d-938e-e05b023dc764"
      },
      "source": [
        "# Create a separate list of Independent_Variables\n",
        "\n",
        "independent_variables = ['lotsize','bedrooms',\n",
        "                        'bathrms','driveway',\n",
        "                        'recroom','fullbase',\n",
        "                        'gashw','airco',\n",
        "                        'garagepl','prefarea',\n",
        "                        'stories_four','stories_one',\n",
        "                        'stories_three','stories_two']\n",
        "independent_variables"
      ],
      "execution_count": 9,
      "outputs": [
        {
          "output_type": "execute_result",
          "data": {
            "text/plain": [
              "['lotsize',\n",
              " 'bedrooms',\n",
              " 'bathrms',\n",
              " 'driveway',\n",
              " 'recroom',\n",
              " 'fullbase',\n",
              " 'gashw',\n",
              " 'airco',\n",
              " 'garagepl',\n",
              " 'prefarea',\n",
              " 'stories_four',\n",
              " 'stories_one',\n",
              " 'stories_three',\n",
              " 'stories_two']"
            ]
          },
          "metadata": {
            "tags": []
          },
          "execution_count": 9
        }
      ]
    },
    {
      "cell_type": "code",
      "metadata": {
        "id": "FXOF5DDsfqDt",
        "colab": {
          "base_uri": "https://localhost:8080/"
        },
        "outputId": "3060efa7-9c6c-41c7-b0be-440e678a2dc5"
      },
      "source": [
        "# Compute MultiCollinearity\n",
        "# VIF --> Variance Inflation Factor\n",
        "\n",
        "from statsmodels.stats.outliers_influence import variance_inflation_factor\n",
        "import numpy as np\n",
        "\n",
        "X = df[independent_variables]\n",
        "y = df['price']\n",
        "\n",
        "# VIF value greater than 10 \n",
        "\n",
        "thresh = 10 # It is an indicator for VIF\n",
        "\n",
        "for i in np.arange(0,len(independent_variables)):\n",
        "  vif = [variance_inflation_factor(X[independent_variables].values,ix)\n",
        "  for ix in range(X[independent_variables].shape[1])]\n",
        "  \n",
        "  maxloc = vif.index(max(vif))\n",
        "  \n",
        "  if max(vif) > thresh:\n",
        "    print (\"VIF :\",vif)\n",
        "    print (\"Dropping : \",X[independent_variables].columns[maxloc],\n",
        "          \"at index\",maxloc)\n",
        "    del independent_variables[maxloc]\n",
        "    \n",
        "  else:\n",
        "    break\n",
        "    \n",
        "print ('\\nFinal Independent Variables : \\n',independent_variables)\n",
        "    \n",
        "   \n",
        "    \n",
        "  \n",
        "  \n",
        "  \n"
      ],
      "execution_count": 10,
      "outputs": [
        {
          "output_type": "stream",
          "text": [
            "/usr/local/lib/python3.6/dist-packages/statsmodels/tools/_testing.py:19: FutureWarning: pandas.util.testing is deprecated. Use the functions in the public API at pandas.testing instead.\n",
            "  import pandas.util.testing as tm\n"
          ],
          "name": "stderr"
        },
        {
          "output_type": "stream",
          "text": [
            "VIF : [1.3704738112004569, 1.578326825971881, 1.2987779728705593, 1.1648811574651847, 1.2148620093192928, 1.3369114662383517, 1.053078869775805, 1.2195823546735252, 1.218832929061305, 1.181239434106175, 4.544836339845972, 11.781465345739338, 3.943698568447546, 17.220894903652624]\n",
            "Dropping :  stories_two at index 13\n",
            "VIF : [9.027672411240845, 12.40877864989557, 9.374682124313615, 6.79426994395169, 1.4753724454932144, 2.055797712632684, 1.103128332756141, 1.785054332017555, 1.9607784997238857, 1.5317205065647905, 1.4546157757803124, 1.8969940907498246, 1.278600527923588]\n",
            "Dropping :  bedrooms at index 1\n",
            "\n",
            "Final Independent Variables : \n",
            " ['lotsize', 'bathrms', 'driveway', 'recroom', 'fullbase', 'gashw', 'airco', 'garagepl', 'prefarea', 'stories_four', 'stories_one', 'stories_three']\n"
          ],
          "name": "stdout"
        }
      ]
    },
    {
      "cell_type": "code",
      "metadata": {
        "id": "Ts3IAiNrd_zT",
        "colab": {
          "base_uri": "https://localhost:8080/"
        },
        "outputId": "208b3749-70eb-4b85-dbce-2d2aafffcd59"
      },
      "source": [
        "independent_variables = ['lotsize', 'bathrms', 'driveway', 'recroom', \n",
        "                         'fullbase', 'gashw', 'airco', 'garagepl', \n",
        "                         'prefarea', 'stories_four', 'stories_one', \n",
        "                         'stories_three']\n",
        "\n",
        "X = df[independent_variables]\n",
        "y = df['price']\n",
        "\n",
        "print (X.shape)\n",
        "print (y.shape)"
      ],
      "execution_count": 11,
      "outputs": [
        {
          "output_type": "stream",
          "text": [
            "(546, 12)\n",
            "(546,)\n"
          ],
          "name": "stdout"
        }
      ]
    },
    {
      "cell_type": "code",
      "metadata": {
        "id": "Ax8clkRCfftF",
        "colab": {
          "base_uri": "https://localhost:8080/"
        },
        "outputId": "4d392e2a-cc38-4ee4-bbc7-02dbf83f129d"
      },
      "source": [
        "from sklearn.model_selection import train_test_split\n",
        "\n",
        "X_train , X_test , y_train , y_test= train_test_split(X,y,train_size=.80,random_state=1)\n",
        "\n",
        "print(X_train.shape)\n",
        "print(X_test.shape)\n",
        "print(y_train.shape)\n",
        "print(y_test.shape)"
      ],
      "execution_count": 12,
      "outputs": [
        {
          "output_type": "stream",
          "text": [
            "(436, 12)\n",
            "(110, 12)\n",
            "(436,)\n",
            "(110,)\n"
          ],
          "name": "stdout"
        }
      ]
    },
    {
      "cell_type": "code",
      "metadata": {
        "id": "HEcEe2JLfkaX"
      },
      "source": [
        ""
      ],
      "execution_count": 12,
      "outputs": []
    },
    {
      "cell_type": "code",
      "metadata": {
        "id": "7NhuTfyHr6Ep",
        "colab": {
          "base_uri": "https://localhost:8080/"
        },
        "outputId": "d17e6527-9e0c-476d-ed2f-fc178120dec1"
      },
      "source": [
        "# OLS \n",
        "#!pip install -U statsmodels\n",
        "'''!pip install --upgrade Cython\n",
        "!pip install --upgrade git+https://github.com/statsmodels/statsmodels\n",
        "import statsmodels.api as sm'''\n",
        "\n",
        "  \n",
        "import statsmodels.api as sm\n",
        "\n",
        "lm = sm.OLS(y_train,X_train).fit()\n",
        "print (lm.summary())"
      ],
      "execution_count": 13,
      "outputs": [
        {
          "output_type": "stream",
          "text": [
            "                                 OLS Regression Results                                \n",
            "=======================================================================================\n",
            "Dep. Variable:                  price   R-squared (uncentered):                   0.956\n",
            "Model:                            OLS   Adj. R-squared (uncentered):              0.954\n",
            "Method:                 Least Squares   F-statistic:                              760.6\n",
            "Date:                Wed, 02 Dec 2020   Prob (F-statistic):                   5.22e-278\n",
            "Time:                        22:02:35   Log-Likelihood:                         -4819.9\n",
            "No. Observations:                 436   AIC:                                      9664.\n",
            "Df Residuals:                     424   BIC:                                      9713.\n",
            "Df Model:                          12                                                  \n",
            "Covariance Type:            nonrobust                                                  \n",
            "=================================================================================\n",
            "                    coef    std err          t      P>|t|      [0.025      0.975]\n",
            "---------------------------------------------------------------------------------\n",
            "lotsize           3.7699      0.388      9.708      0.000       3.007       4.533\n",
            "bathrms        1.951e+04   1288.307     15.143      0.000     1.7e+04     2.2e+04\n",
            "driveway       1.202e+04   1956.537      6.143      0.000    8172.955    1.59e+04\n",
            "recroom        2872.0408   2142.873      1.340      0.181   -1339.936    7084.017\n",
            "fullbase       6400.7179   1798.062      3.560      0.000    2866.492    9934.943\n",
            "gashw          1.505e+04   3481.788      4.322      0.000    8203.720    2.19e+04\n",
            "airco          1.236e+04   1790.893      6.901      0.000    8838.568    1.59e+04\n",
            "garagepl       4189.5232    954.057      4.391      0.000    2314.253    6064.794\n",
            "prefarea       8426.2913   1989.313      4.236      0.000    4516.148    1.23e+04\n",
            "stories_four   1.385e+04   3438.209      4.028      0.000    7092.521    2.06e+04\n",
            "stories_one   -4097.5459   1568.606     -2.612      0.009   -7180.758   -1014.334\n",
            "stories_three  1.269e+04   3097.207      4.099      0.000    6606.358    1.88e+04\n",
            "==============================================================================\n",
            "Omnibus:                       35.736   Durbin-Watson:                   1.964\n",
            "Prob(Omnibus):                  0.000   Jarque-Bera (JB):               64.292\n",
            "Skew:                           0.514   Prob(JB):                     1.09e-14\n",
            "Kurtosis:                       4.576   Cond. No.                     2.79e+04\n",
            "==============================================================================\n",
            "\n",
            "Warnings:\n",
            "[1] Standard Errors assume that the covariance matrix of the errors is correctly specified.\n",
            "[2] The condition number is large, 2.79e+04. This might indicate that there are\n",
            "strong multicollinearity or other numerical problems.\n"
          ],
          "name": "stdout"
        }
      ]
    },
    {
      "cell_type": "code",
      "metadata": {
        "id": "9C6mIh-_825s"
      },
      "source": [
        "independent_variables = ['lotsize', 'bathrms', 'driveway', \n",
        "                         'fullbase', 'gashw', 'airco', 'garagepl', \n",
        "                         'prefarea', 'stories_four', 'stories_one', \n",
        "                         'stories_three']\n",
        "\n",
        "X = df[independent_variables]\n",
        "y = df['price']"
      ],
      "execution_count": 14,
      "outputs": []
    },
    {
      "cell_type": "code",
      "metadata": {
        "id": "ihCmRhtf9KtV",
        "colab": {
          "base_uri": "https://localhost:8080/"
        },
        "outputId": "6d85b46a-4e16-4753-abce-ec66d71f6fdc"
      },
      "source": [
        "X_train , X_test , y_train , y_test= train_test_split(X,y,train_size=.80,random_state=1)\n",
        "\n",
        "print(X_train.shape)\n",
        "print(X_test.shape)\n",
        "print(y_train.shape)\n",
        "print(y_test.shape)"
      ],
      "execution_count": 15,
      "outputs": [
        {
          "output_type": "stream",
          "text": [
            "(436, 11)\n",
            "(110, 11)\n",
            "(436,)\n",
            "(110,)\n"
          ],
          "name": "stdout"
        }
      ]
    },
    {
      "cell_type": "markdown",
      "metadata": {
        "id": "7-UUbVfcGndn"
      },
      "source": [
        ""
      ]
    },
    {
      "cell_type": "code",
      "metadata": {
        "id": "tlknsZ6VGNZf",
        "colab": {
          "base_uri": "https://localhost:8080/"
        },
        "outputId": "b1bb6694-78c7-4cf0-800c-b7adf0a540f2"
      },
      "source": [
        "lm = sm.OLS(y_train,X_train).fit()\n",
        "print (lm.summary())"
      ],
      "execution_count": 16,
      "outputs": [
        {
          "output_type": "stream",
          "text": [
            "                                 OLS Regression Results                                \n",
            "=======================================================================================\n",
            "Dep. Variable:                  price   R-squared (uncentered):                   0.955\n",
            "Model:                            OLS   Adj. R-squared (uncentered):              0.954\n",
            "Method:                 Least Squares   F-statistic:                              828.0\n",
            "Date:                Wed, 02 Dec 2020   Prob (F-statistic):                   4.34e-279\n",
            "Time:                        22:02:36   Log-Likelihood:                         -4820.8\n",
            "No. Observations:                 436   AIC:                                      9664.\n",
            "Df Residuals:                     425   BIC:                                      9708.\n",
            "Df Model:                          11                                                  \n",
            "Covariance Type:            nonrobust                                                  \n",
            "=================================================================================\n",
            "                    coef    std err          t      P>|t|      [0.025      0.975]\n",
            "---------------------------------------------------------------------------------\n",
            "lotsize           3.8087      0.388      9.826      0.000       3.047       4.571\n",
            "bathrms         1.95e+04   1289.505     15.125      0.000     1.7e+04     2.2e+04\n",
            "driveway        1.21e+04   1957.405      6.182      0.000    8253.555    1.59e+04\n",
            "fullbase       7194.3499   1699.352      4.234      0.000    3854.169    1.05e+04\n",
            "gashw          1.511e+04   3484.684      4.338      0.000    8265.546     2.2e+04\n",
            "airco          1.248e+04   1790.273      6.971      0.000    8961.294     1.6e+04\n",
            "garagepl       4116.6719    953.399      4.318      0.000    2242.707    5990.637\n",
            "prefarea       8604.6955   1986.713      4.331      0.000    4699.689    1.25e+04\n",
            "stories_four   1.405e+04   3438.140      4.087      0.000    7294.124    2.08e+04\n",
            "stories_one   -4218.1782   1567.488     -2.691      0.007   -7299.172   -1137.184\n",
            "stories_three  1.265e+04   3099.966      4.082      0.000    6561.305    1.87e+04\n",
            "==============================================================================\n",
            "Omnibus:                       34.173   Durbin-Watson:                   1.963\n",
            "Prob(Omnibus):                  0.000   Jarque-Bera (JB):               59.327\n",
            "Skew:                           0.506   Prob(JB):                     1.31e-13\n",
            "Kurtosis:                       4.498   Cond. No.                     2.79e+04\n",
            "==============================================================================\n",
            "\n",
            "Warnings:\n",
            "[1] Standard Errors assume that the covariance matrix of the errors is correctly specified.\n",
            "[2] The condition number is large, 2.79e+04. This might indicate that there are\n",
            "strong multicollinearity or other numerical problems.\n"
          ],
          "name": "stdout"
        }
      ]
    },
    {
      "cell_type": "markdown",
      "metadata": {
        "id": "NLVIVNul-liO"
      },
      "source": [
        ""
      ]
    },
    {
      "cell_type": "code",
      "metadata": {
        "id": "O-XEzimW9J9O",
        "colab": {
          "base_uri": "https://localhost:8080/",
          "height": 270
        },
        "outputId": "ff17938d-ad83-41a6-c203-ceaab075df3e"
      },
      "source": [
        "lotsize = int(input('Enter Lotsize : '))\n",
        "bathrms = int(input('Enter Bathrooms : '))\n",
        "driveway = int(input('Enter Driveway : '))\n",
        "fullbase = int(input('Enter Fullbase : '))\n",
        "gashw = int(input('Enter Gas Hot Water : '))\n",
        "airco = int(input('Enter AirCondition : '))\n",
        "garagepl = int(input('Enter Garage place : '))\n",
        "prefarea = int(input('Enter Prefarea : '))\n",
        "stories_four = int(input('Enter Story Four : '))\n",
        "stories_one = int(input('Enter Story One : '))\n",
        "stories_three = int(input('Enter Story Three : '))\n",
        "\n",
        "# convert these input into dictionaries\n",
        "\n",
        "dict1 = {'lotsize':lotsize,'bathrms':bathrms,'driveway':driveway,\n",
        "        'fullbase':fullbase,'gashw':gashw,'airco':airco,\n",
        "        'garagepl':garagepl,'prefarea':prefarea,\n",
        "        'stories_four':stories_four,'stories_one':stories_one,\n",
        "        'stories_three':stories_three}\n",
        "\n",
        "# convert dictionary into dataframe\n",
        "\n",
        "df_input = pd.DataFrame(dict1,index=[0],columns=['lotsize','bathrms',\n",
        "                                                'driveway','fullbase',\n",
        "                                                'gashw','airco',\n",
        "                                                'garagepl','prefarea',\n",
        "                                                'stories_four','stories_one',\n",
        "                                                'stories_three']) \n",
        "df_input"
      ],
      "execution_count": 17,
      "outputs": [
        {
          "output_type": "stream",
          "text": [
            "Enter Lotsize : 4000\n",
            "Enter Bathrooms : 1\n",
            "Enter Driveway : 0\n",
            "Enter Fullbase : 0\n",
            "Enter Gas Hot Water : 0\n",
            "Enter AirCondition : 0\n",
            "Enter Garage place : 0\n",
            "Enter Prefarea : 0\n",
            "Enter Story Four : 1\n",
            "Enter Story One : 0\n",
            "Enter Story Three : 0\n"
          ],
          "name": "stdout"
        },
        {
          "output_type": "execute_result",
          "data": {
            "text/html": [
              "<div>\n",
              "<style scoped>\n",
              "    .dataframe tbody tr th:only-of-type {\n",
              "        vertical-align: middle;\n",
              "    }\n",
              "\n",
              "    .dataframe tbody tr th {\n",
              "        vertical-align: top;\n",
              "    }\n",
              "\n",
              "    .dataframe thead th {\n",
              "        text-align: right;\n",
              "    }\n",
              "</style>\n",
              "<table border=\"1\" class=\"dataframe\">\n",
              "  <thead>\n",
              "    <tr style=\"text-align: right;\">\n",
              "      <th></th>\n",
              "      <th>lotsize</th>\n",
              "      <th>bathrms</th>\n",
              "      <th>driveway</th>\n",
              "      <th>fullbase</th>\n",
              "      <th>gashw</th>\n",
              "      <th>airco</th>\n",
              "      <th>garagepl</th>\n",
              "      <th>prefarea</th>\n",
              "      <th>stories_four</th>\n",
              "      <th>stories_one</th>\n",
              "      <th>stories_three</th>\n",
              "    </tr>\n",
              "  </thead>\n",
              "  <tbody>\n",
              "    <tr>\n",
              "      <th>0</th>\n",
              "      <td>4000</td>\n",
              "      <td>1</td>\n",
              "      <td>0</td>\n",
              "      <td>0</td>\n",
              "      <td>0</td>\n",
              "      <td>0</td>\n",
              "      <td>0</td>\n",
              "      <td>0</td>\n",
              "      <td>1</td>\n",
              "      <td>0</td>\n",
              "      <td>0</td>\n",
              "    </tr>\n",
              "  </tbody>\n",
              "</table>\n",
              "</div>"
            ],
            "text/plain": [
              "   lotsize  bathrms  driveway  ...  stories_four  stories_one  stories_three\n",
              "0     4000        1         0  ...             1            0              0\n",
              "\n",
              "[1 rows x 11 columns]"
            ]
          },
          "metadata": {
            "tags": []
          },
          "execution_count": 17
        }
      ]
    },
    {
      "cell_type": "code",
      "metadata": {
        "id": "m7yJlE40E5NW",
        "colab": {
          "base_uri": "https://localhost:8080/"
        },
        "outputId": "1a9a3b73-e976-4a5d-e5cd-f2cd2e94f6ef"
      },
      "source": [
        "predict_price = lm.predict(df_input)\n",
        "print ('Predicted Price Of House is :  ',predict_price[0])"
      ],
      "execution_count": 18,
      "outputs": [
        {
          "output_type": "stream",
          "text": [
            "Predicted Price Of House is :   48790.20999705959\n"
          ],
          "name": "stdout"
        }
      ]
    },
    {
      "cell_type": "code",
      "metadata": {
        "id": "JyxF-v1nE4Lw",
        "colab": {
          "base_uri": "https://localhost:8080/"
        },
        "outputId": "d7286555-dd3d-4d69-ae42-8490db96df7c"
      },
      "source": [
        "# Accuracy \n",
        "y_pred_price = lm.predict(X_train)\n",
        "y_pred_price"
      ],
      "execution_count": 19,
      "outputs": [
        {
          "output_type": "execute_result",
          "data": {
            "text/plain": [
              "273     69699.608180\n",
              "40      53062.296687\n",
              "397     96389.432543\n",
              "339     46458.295694\n",
              "411    109603.681749\n",
              "           ...      \n",
              "129     89341.317162\n",
              "144     56317.097682\n",
              "72      29472.350033\n",
              "235     40195.546116\n",
              "37      77827.532744\n",
              "Length: 436, dtype: float64"
            ]
          },
          "metadata": {
            "tags": []
          },
          "execution_count": 19
        }
      ]
    },
    {
      "cell_type": "code",
      "metadata": {
        "id": "Lae_mKcFE3qU",
        "colab": {
          "base_uri": "https://localhost:8080/"
        },
        "outputId": "e0a9f764-d0fe-4caa-d1bb-5e65de0c21cc"
      },
      "source": [
        "from sklearn.metrics import r2_score\n",
        "\n",
        "print (\"Model Accuracy : \",r2_score(y_train,y_pred_price))"
      ],
      "execution_count": 20,
      "outputs": [
        {
          "output_type": "stream",
          "text": [
            "Model Accuracy :  0.6669710966728543\n"
          ],
          "name": "stdout"
        }
      ]
    },
    {
      "cell_type": "code",
      "metadata": {
        "id": "7TGoMZn4HwgY",
        "colab": {
          "base_uri": "https://localhost:8080/"
        },
        "outputId": "bdf82838-bf02-4baf-bbef-e0d3cd70987d"
      },
      "source": [
        "_"
      ],
      "execution_count": 21,
      "outputs": [
        {
          "output_type": "execute_result",
          "data": {
            "text/plain": [
              "273     69699.608180\n",
              "40      53062.296687\n",
              "397     96389.432543\n",
              "339     46458.295694\n",
              "411    109603.681749\n",
              "           ...      \n",
              "129     89341.317162\n",
              "144     56317.097682\n",
              "72      29472.350033\n",
              "235     40195.546116\n",
              "37      77827.532744\n",
              "Length: 436, dtype: float64"
            ]
          },
          "metadata": {
            "tags": []
          },
          "execution_count": 21
        }
      ]
    }
  ]
}